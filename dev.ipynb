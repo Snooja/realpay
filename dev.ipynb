{
 "cells": [
  {
   "cell_type": "code",
   "execution_count": 1,
   "metadata": {},
   "outputs": [],
   "source": [
    "%load_ext autoreload\n",
    "%autoreload 2|"
   ]
  },
  {
   "cell_type": "code",
   "execution_count": 2,
   "metadata": {},
   "outputs": [],
   "source": [
    "import pandas as pd\n",
    "import numpy as np"
   ]
  },
  {
   "cell_type": "code",
   "execution_count": 3,
   "metadata": {},
   "outputs": [],
   "source": [
    "from realpay.core import TaxTable, Tax"
   ]
  },
  {
   "cell_type": "code",
   "execution_count": 4,
   "metadata": {},
   "outputs": [],
   "source": [
    "d = {\n",
    "    \"levy\": 0.02,\n",
    "    \"valid_from\": '2022-07-01',\n",
    "    \"valid_to\": \"2022-06-30\",\n",
    "    \"country\": \"AUD\",\n",
    "    \"state\": \"WA\",\n",
    "    \"currency\": \"AUD\",\n",
    "    'raw_tax_table': pd.DataFrame(\n",
    "        {\n",
    "        'min': [1,3],\n",
    "        'max': [2, 'inf'],\n",
    "        'rate': [0.1, 0.2]\n",
    "        }),\n",
    "    'reference': \"https://www.ato.gov.au/rates/individual-income-tax-rates/\"\n",
    "}"
   ]
  },
  {
   "cell_type": "code",
   "execution_count": 5,
   "metadata": {},
   "outputs": [],
   "source": [
    "test = Tax(**d)"
   ]
  },
  {
   "cell_type": "code",
   "execution_count": 6,
   "metadata": {},
   "outputs": [],
   "source": [
    "j = test.to_json(\"test\")"
   ]
  },
  {
   "cell_type": "code",
   "execution_count": 7,
   "metadata": {},
   "outputs": [],
   "source": [
    "test2 = Tax.from_json(\"test\")"
   ]
  },
  {
   "cell_type": "code",
   "execution_count": 8,
   "metadata": {},
   "outputs": [
    {
     "data": {
      "text/plain": [
       "Tax(levy=0.02, valid_from='2022-07-01', valid_to='2022-06-30', country='AUD', state='WA', currency='AUD', raw_tax_table=   min  max  rate\n",
       "0    1  2.0   0.1\n",
       "1    3  inf   0.2, tax_table=TaxTable(raw=   min  max  rate\n",
       "0    1  2.0   0.1\n",
       "1    3  inf   0.2, table=   min  max  rate  bracket_tax  cumsum\n",
       "0  1.0  2.0   0.1          0.1     2.0\n",
       "1  3.0  inf   0.2          inf     inf, min_col='min', max_col='max', rate_col='rate', inf_str='inf'))"
      ]
     },
     "execution_count": 8,
     "metadata": {},
     "output_type": "execute_result"
    }
   ],
   "source": [
    "test2"
   ]
  },
  {
   "cell_type": "code",
   "execution_count": null,
   "metadata": {},
   "outputs": [],
   "source": [
    "import dataclasses\n",
    "d = dataclasses.asdict(test)\n",
    "del d['tax_table']\n",
    "d['raw_tax_table'] = d['raw_tax_table'].to_json()\n",
    "d"
   ]
  },
  {
   "cell_type": "code",
   "execution_count": null,
   "metadata": {},
   "outputs": [],
   "source": [
    "import json\n",
    "test_out = json.dumps(d)"
   ]
  },
  {
   "cell_type": "markdown",
   "metadata": {},
   "source": []
  },
  {
   "cell_type": "code",
   "execution_count": null,
   "metadata": {},
   "outputs": [],
   "source": [
    "test_out"
   ]
  },
  {
   "cell_type": "code",
   "execution_count": null,
   "metadata": {},
   "outputs": [],
   "source": [
    "test_in = json.loads(test_out)\n",
    "test_in['raw_tax_table'] = pd.read_json(test_in['raw_tax_table'])\n",
    "test_in"
   ]
  },
  {
   "cell_type": "code",
   "execution_count": null,
   "metadata": {},
   "outputs": [],
   "source": [
    "taxtable = pd.DataFrame(\n",
    "    {\n",
    "    'min': [0, 18201, 45001, 120001, 180001],\n",
    "    'max': [18200, 45000, 120000, 180000, np.inf],\n",
    "    'rate': [0, 0.19, 0.325, 0.37, 0.45]\n",
    "    }\n",
    ")\n",
    "taxtable"
   ]
  },
  {
   "cell_type": "code",
   "execution_count": null,
   "metadata": {},
   "outputs": [],
   "source": [
    "taxtable['bracket_tax'] = (taxtable['max'] - taxtable['min']) * taxtable['rate']\n",
    "taxtable['cumsum'] = taxtable['max'].cumsum()\n",
    "taxtable"
   ]
  },
  {
   "cell_type": "code",
   "execution_count": null,
   "metadata": {},
   "outputs": [],
   "source": [
    "183200 == 120000 + 45000 + 18200"
   ]
  },
  {
   "cell_type": "code",
   "execution_count": null,
   "metadata": {},
   "outputs": [],
   "source": [
    "import yaml"
   ]
  },
  {
   "cell_type": "code",
   "execution_count": null,
   "metadata": {},
   "outputs": [],
   "source": [
    "import yaml"
   ]
  },
  {
   "cell_type": "code",
   "execution_count": null,
   "metadata": {},
   "outputs": [],
   "source": []
  }
 ],
 "metadata": {
  "kernelspec": {
   "display_name": "Python 3.10.0 ('realpay-bOQym5I6')",
   "language": "python",
   "name": "python3"
  },
  "language_info": {
   "codemirror_mode": {
    "name": "ipython",
    "version": 3
   },
   "file_extension": ".py",
   "mimetype": "text/x-python",
   "name": "python",
   "nbconvert_exporter": "python",
   "pygments_lexer": "ipython3",
   "version": "3.10.0"
  },
  "orig_nbformat": 4,
  "vscode": {
   "interpreter": {
    "hash": "84134a74397d4f2e6929b50f8a6a6bdc99dd4b678d591942436cf6e243ad3c98"
   }
  }
 },
 "nbformat": 4,
 "nbformat_minor": 2
}
