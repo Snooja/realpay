{
 "cells": [
  {
   "cell_type": "code",
   "execution_count": 8,
   "metadata": {},
   "outputs": [],
   "source": [
    "import pandas as pd\n",
    "import numpy as np"
   ]
  },
  {
   "cell_type": "code",
   "execution_count": 14,
   "metadata": {},
   "outputs": [
    {
     "data": {
      "text/html": [
       "<div>\n",
       "<style scoped>\n",
       "    .dataframe tbody tr th:only-of-type {\n",
       "        vertical-align: middle;\n",
       "    }\n",
       "\n",
       "    .dataframe tbody tr th {\n",
       "        vertical-align: top;\n",
       "    }\n",
       "\n",
       "    .dataframe thead th {\n",
       "        text-align: right;\n",
       "    }\n",
       "</style>\n",
       "<table border=\"1\" class=\"dataframe\">\n",
       "  <thead>\n",
       "    <tr style=\"text-align: right;\">\n",
       "      <th></th>\n",
       "      <th>min</th>\n",
       "      <th>max</th>\n",
       "      <th>rate</th>\n",
       "    </tr>\n",
       "  </thead>\n",
       "  <tbody>\n",
       "    <tr>\n",
       "      <th>0</th>\n",
       "      <td>0</td>\n",
       "      <td>18200.0</td>\n",
       "      <td>0.000</td>\n",
       "    </tr>\n",
       "    <tr>\n",
       "      <th>1</th>\n",
       "      <td>18201</td>\n",
       "      <td>45000.0</td>\n",
       "      <td>0.190</td>\n",
       "    </tr>\n",
       "    <tr>\n",
       "      <th>2</th>\n",
       "      <td>45001</td>\n",
       "      <td>120000.0</td>\n",
       "      <td>0.325</td>\n",
       "    </tr>\n",
       "    <tr>\n",
       "      <th>3</th>\n",
       "      <td>120001</td>\n",
       "      <td>180000.0</td>\n",
       "      <td>0.370</td>\n",
       "    </tr>\n",
       "    <tr>\n",
       "      <th>4</th>\n",
       "      <td>180001</td>\n",
       "      <td>inf</td>\n",
       "      <td>0.450</td>\n",
       "    </tr>\n",
       "  </tbody>\n",
       "</table>\n",
       "</div>"
      ],
      "text/plain": [
       "      min       max   rate\n",
       "0       0   18200.0  0.000\n",
       "1   18201   45000.0  0.190\n",
       "2   45001  120000.0  0.325\n",
       "3  120001  180000.0  0.370\n",
       "4  180001       inf  0.450"
      ]
     },
     "execution_count": 14,
     "metadata": {},
     "output_type": "execute_result"
    }
   ],
   "source": [
    "taxtable = pd.DataFrame(\n",
    "    {\n",
    "    'min': [0, 18201, 45001, 120001, 180001],\n",
    "    'max': [18200, 45000, 120000, 180000, np.inf],\n",
    "    'rate': [0, 0.19, 0.325, 0.37, 0.45]\n",
    "    }\n",
    ")\n",
    "taxtable"
   ]
  },
  {
   "cell_type": "code",
   "execution_count": 16,
   "metadata": {},
   "outputs": [
    {
     "data": {
      "text/html": [
       "<div>\n",
       "<style scoped>\n",
       "    .dataframe tbody tr th:only-of-type {\n",
       "        vertical-align: middle;\n",
       "    }\n",
       "\n",
       "    .dataframe tbody tr th {\n",
       "        vertical-align: top;\n",
       "    }\n",
       "\n",
       "    .dataframe thead th {\n",
       "        text-align: right;\n",
       "    }\n",
       "</style>\n",
       "<table border=\"1\" class=\"dataframe\">\n",
       "  <thead>\n",
       "    <tr style=\"text-align: right;\">\n",
       "      <th></th>\n",
       "      <th>min</th>\n",
       "      <th>max</th>\n",
       "      <th>rate</th>\n",
       "      <th>cumsum</th>\n",
       "      <th>bracket_tax</th>\n",
       "    </tr>\n",
       "  </thead>\n",
       "  <tbody>\n",
       "    <tr>\n",
       "      <th>0</th>\n",
       "      <td>0</td>\n",
       "      <td>18200.0</td>\n",
       "      <td>0.000</td>\n",
       "      <td>18200.0</td>\n",
       "      <td>0.000</td>\n",
       "    </tr>\n",
       "    <tr>\n",
       "      <th>1</th>\n",
       "      <td>18201</td>\n",
       "      <td>45000.0</td>\n",
       "      <td>0.190</td>\n",
       "      <td>63200.0</td>\n",
       "      <td>5091.810</td>\n",
       "    </tr>\n",
       "    <tr>\n",
       "      <th>2</th>\n",
       "      <td>45001</td>\n",
       "      <td>120000.0</td>\n",
       "      <td>0.325</td>\n",
       "      <td>183200.0</td>\n",
       "      <td>24374.675</td>\n",
       "    </tr>\n",
       "    <tr>\n",
       "      <th>3</th>\n",
       "      <td>120001</td>\n",
       "      <td>180000.0</td>\n",
       "      <td>0.370</td>\n",
       "      <td>363200.0</td>\n",
       "      <td>22199.630</td>\n",
       "    </tr>\n",
       "    <tr>\n",
       "      <th>4</th>\n",
       "      <td>180001</td>\n",
       "      <td>inf</td>\n",
       "      <td>0.450</td>\n",
       "      <td>inf</td>\n",
       "      <td>inf</td>\n",
       "    </tr>\n",
       "  </tbody>\n",
       "</table>\n",
       "</div>"
      ],
      "text/plain": [
       "      min       max   rate    cumsum  bracket_tax\n",
       "0       0   18200.0  0.000   18200.0        0.000\n",
       "1   18201   45000.0  0.190   63200.0     5091.810\n",
       "2   45001  120000.0  0.325  183200.0    24374.675\n",
       "3  120001  180000.0  0.370  363200.0    22199.630\n",
       "4  180001       inf  0.450       inf          inf"
      ]
     },
     "execution_count": 16,
     "metadata": {},
     "output_type": "execute_result"
    }
   ],
   "source": [
    "taxtable['bracket_tax'] = (taxtable['max'] - taxtable['min']) * taxtable['rate']\n",
    "taxtable['cumsum'] = taxtable['max'].cumsum()\n",
    "taxtable"
   ]
  }
 ],
 "metadata": {
  "kernelspec": {
   "display_name": "Python 3.10.0 ('realpay-bOQym5I6')",
   "language": "python",
   "name": "python3"
  },
  "language_info": {
   "codemirror_mode": {
    "name": "ipython",
    "version": 3
   },
   "file_extension": ".py",
   "mimetype": "text/x-python",
   "name": "python",
   "nbconvert_exporter": "python",
   "pygments_lexer": "ipython3",
   "version": "3.10.0"
  },
  "orig_nbformat": 4,
  "vscode": {
   "interpreter": {
    "hash": "84134a74397d4f2e6929b50f8a6a6bdc99dd4b678d591942436cf6e243ad3c98"
   }
  }
 },
 "nbformat": 4,
 "nbformat_minor": 2
}
